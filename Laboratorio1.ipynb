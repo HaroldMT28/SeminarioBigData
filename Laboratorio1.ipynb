{
  "nbformat": 4,
  "nbformat_minor": 0,
  "metadata": {
    "colab": {
      "provenance": [],
      "authorship_tag": "ABX9TyP64UwoaSvRjlbbX1AviZjR",
      "include_colab_link": true
    },
    "kernelspec": {
      "name": "python3",
      "display_name": "Python 3"
    },
    "language_info": {
      "name": "python"
    }
  },
  "cells": [
    {
      "cell_type": "markdown",
      "metadata": {
        "id": "view-in-github",
        "colab_type": "text"
      },
      "source": [
        "<a href=\"https://colab.research.google.com/github/HaroldMT28/SeminarioBigData/blob/main/Laboratorio1.ipynb\" target=\"_parent\"><img src=\"https://colab.research.google.com/assets/colab-badge.svg\" alt=\"Open In Colab\"/></a>"
      ]
    },
    {
      "cell_type": "code",
      "execution_count": null,
      "metadata": {
        "id": "370V5K4p2V-I"
      },
      "outputs": [],
      "source": [
        "import pandas as pd\n",
        "import numpy as np\n",
        "import matplotlib. pyplot as plt"
      ]
    },
    {
      "cell_type": "code",
      "source": [
        "data = {'year': [\n",
        "                  2010, 2011, 2012,\n",
        "                  2010, 2011, 2012,\n",
        "                  2010, 2011, 2012\n",
        "                ] ,\n",
        "        'team': [\n",
        "                  'FCBarcelona', 'FCBarcelona',\n",
        "                  'FCBarcelona', 'RMadrid',\n",
        "                  'RMadrid', 'RMadrid',\n",
        "                  'ValenciaCF', 'ValenciaCF',\n",
        "                  'ValenciaCF'\n",
        "                ] ,\n",
        "        'wins': [30, 28, 32, 29, 32, 26, 21, 17, 19],\n",
        "        'draws': [6, 7, 4, 5, 4, 7, 8, 10, 8],\n",
        "        'losses': [2, 3, 2, 4, 2, 5, 9, 11, 11]\n",
        "       }\n",
        "football = pd.DataFrame(\n",
        "    data ,\n",
        "    columns = [\n",
        "      'year', 'team', 'wins', 'draws', 'losses'\n",
        "    ]\n",
        ")"
      ],
      "metadata": {
        "id": "Jh6uX4ow2gwH"
      },
      "execution_count": null,
      "outputs": []
    },
    {
      "cell_type": "code",
      "source": [],
      "metadata": {
        "id": "jevkN-eJ3Vi2"
      },
      "execution_count": null,
      "outputs": []
    },
    {
      "cell_type": "markdown",
      "source": [],
      "metadata": {
        "id": "M0P8wscV2ga-"
      }
    }
  ]
}